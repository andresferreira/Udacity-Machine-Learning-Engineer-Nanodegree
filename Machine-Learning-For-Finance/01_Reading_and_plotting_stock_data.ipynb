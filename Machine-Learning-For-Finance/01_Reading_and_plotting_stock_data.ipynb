{
 "cells": [
  {
   "cell_type": "code",
   "execution_count": 1,
   "metadata": {},
   "outputs": [],
   "source": [
    "import pandas as pd\n",
    "import matplotlib.pyplot as plt"
   ]
  },
  {
   "cell_type": "markdown",
   "metadata": {},
   "source": [
    "### Read data"
   ]
  },
  {
   "cell_type": "code",
   "execution_count": 2,
   "metadata": {},
   "outputs": [],
   "source": [
    "df = pd.read_csv(\"data/AAPL.csv\")"
   ]
  },
  {
   "cell_type": "code",
   "execution_count": 3,
   "metadata": {},
   "outputs": [
    {
     "data": {
      "text/html": [
       "<div>\n",
       "<style scoped>\n",
       "    .dataframe tbody tr th:only-of-type {\n",
       "        vertical-align: middle;\n",
       "    }\n",
       "\n",
       "    .dataframe tbody tr th {\n",
       "        vertical-align: top;\n",
       "    }\n",
       "\n",
       "    .dataframe thead th {\n",
       "        text-align: right;\n",
       "    }\n",
       "</style>\n",
       "<table border=\"1\" class=\"dataframe\">\n",
       "  <thead>\n",
       "    <tr style=\"text-align: right;\">\n",
       "      <th></th>\n",
       "      <th>Date</th>\n",
       "      <th>Open</th>\n",
       "      <th>High</th>\n",
       "      <th>Low</th>\n",
       "      <th>Close</th>\n",
       "      <th>Adj Close</th>\n",
       "      <th>Volume</th>\n",
       "    </tr>\n",
       "  </thead>\n",
       "  <tbody>\n",
       "    <tr>\n",
       "      <th>18</th>\n",
       "      <td>2018-02-12</td>\n",
       "      <td>158.500000</td>\n",
       "      <td>163.889999</td>\n",
       "      <td>157.509995</td>\n",
       "      <td>162.710007</td>\n",
       "      <td>162.710007</td>\n",
       "      <td>60819500</td>\n",
       "    </tr>\n",
       "    <tr>\n",
       "      <th>19</th>\n",
       "      <td>2018-02-13</td>\n",
       "      <td>161.949997</td>\n",
       "      <td>164.750000</td>\n",
       "      <td>161.649994</td>\n",
       "      <td>164.339996</td>\n",
       "      <td>164.339996</td>\n",
       "      <td>32549200</td>\n",
       "    </tr>\n",
       "    <tr>\n",
       "      <th>20</th>\n",
       "      <td>2018-02-14</td>\n",
       "      <td>163.039993</td>\n",
       "      <td>167.539993</td>\n",
       "      <td>162.880005</td>\n",
       "      <td>167.369995</td>\n",
       "      <td>167.369995</td>\n",
       "      <td>40644900</td>\n",
       "    </tr>\n",
       "    <tr>\n",
       "      <th>21</th>\n",
       "      <td>2018-02-15</td>\n",
       "      <td>169.789993</td>\n",
       "      <td>173.089996</td>\n",
       "      <td>169.000000</td>\n",
       "      <td>172.990005</td>\n",
       "      <td>172.990005</td>\n",
       "      <td>51147200</td>\n",
       "    </tr>\n",
       "    <tr>\n",
       "      <th>22</th>\n",
       "      <td>2018-02-16</td>\n",
       "      <td>172.360001</td>\n",
       "      <td>174.820007</td>\n",
       "      <td>171.770004</td>\n",
       "      <td>172.429993</td>\n",
       "      <td>172.429993</td>\n",
       "      <td>39963200</td>\n",
       "    </tr>\n",
       "  </tbody>\n",
       "</table>\n",
       "</div>"
      ],
      "text/plain": [
       "          Date        Open        High         Low       Close   Adj Close  \\\n",
       "18  2018-02-12  158.500000  163.889999  157.509995  162.710007  162.710007   \n",
       "19  2018-02-13  161.949997  164.750000  161.649994  164.339996  164.339996   \n",
       "20  2018-02-14  163.039993  167.539993  162.880005  167.369995  167.369995   \n",
       "21  2018-02-15  169.789993  173.089996  169.000000  172.990005  172.990005   \n",
       "22  2018-02-16  172.360001  174.820007  171.770004  172.429993  172.429993   \n",
       "\n",
       "      Volume  \n",
       "18  60819500  \n",
       "19  32549200  \n",
       "20  40644900  \n",
       "21  51147200  \n",
       "22  39963200  "
      ]
     },
     "execution_count": 3,
     "metadata": {},
     "output_type": "execute_result"
    }
   ],
   "source": [
    "### Last 5 rows\n",
    "df.tail()"
   ]
  },
  {
   "cell_type": "code",
   "execution_count": 4,
   "metadata": {},
   "outputs": [
    {
     "data": {
      "text/html": [
       "<div>\n",
       "<style scoped>\n",
       "    .dataframe tbody tr th:only-of-type {\n",
       "        vertical-align: middle;\n",
       "    }\n",
       "\n",
       "    .dataframe tbody tr th {\n",
       "        vertical-align: top;\n",
       "    }\n",
       "\n",
       "    .dataframe thead th {\n",
       "        text-align: right;\n",
       "    }\n",
       "</style>\n",
       "<table border=\"1\" class=\"dataframe\">\n",
       "  <thead>\n",
       "    <tr style=\"text-align: right;\">\n",
       "      <th></th>\n",
       "      <th>Date</th>\n",
       "      <th>Open</th>\n",
       "      <th>High</th>\n",
       "      <th>Low</th>\n",
       "      <th>Close</th>\n",
       "      <th>Adj Close</th>\n",
       "      <th>Volume</th>\n",
       "    </tr>\n",
       "  </thead>\n",
       "  <tbody>\n",
       "    <tr>\n",
       "      <th>10</th>\n",
       "      <td>2018-01-31</td>\n",
       "      <td>166.869995</td>\n",
       "      <td>168.440002</td>\n",
       "      <td>166.500000</td>\n",
       "      <td>167.429993</td>\n",
       "      <td>166.750137</td>\n",
       "      <td>32478900</td>\n",
       "    </tr>\n",
       "    <tr>\n",
       "      <th>11</th>\n",
       "      <td>2018-02-01</td>\n",
       "      <td>167.169998</td>\n",
       "      <td>168.619995</td>\n",
       "      <td>166.759995</td>\n",
       "      <td>167.779999</td>\n",
       "      <td>167.098724</td>\n",
       "      <td>47230800</td>\n",
       "    </tr>\n",
       "    <tr>\n",
       "      <th>12</th>\n",
       "      <td>2018-02-02</td>\n",
       "      <td>166.000000</td>\n",
       "      <td>166.800003</td>\n",
       "      <td>160.100006</td>\n",
       "      <td>160.500000</td>\n",
       "      <td>159.848282</td>\n",
       "      <td>86593800</td>\n",
       "    </tr>\n",
       "    <tr>\n",
       "      <th>13</th>\n",
       "      <td>2018-02-05</td>\n",
       "      <td>159.100006</td>\n",
       "      <td>163.880005</td>\n",
       "      <td>156.000000</td>\n",
       "      <td>156.490005</td>\n",
       "      <td>155.854568</td>\n",
       "      <td>72738500</td>\n",
       "    </tr>\n",
       "    <tr>\n",
       "      <th>14</th>\n",
       "      <td>2018-02-06</td>\n",
       "      <td>154.830002</td>\n",
       "      <td>163.720001</td>\n",
       "      <td>154.000000</td>\n",
       "      <td>163.029999</td>\n",
       "      <td>162.368011</td>\n",
       "      <td>68243800</td>\n",
       "    </tr>\n",
       "    <tr>\n",
       "      <th>15</th>\n",
       "      <td>2018-02-07</td>\n",
       "      <td>163.089996</td>\n",
       "      <td>163.399994</td>\n",
       "      <td>159.070007</td>\n",
       "      <td>159.539993</td>\n",
       "      <td>158.892166</td>\n",
       "      <td>51608600</td>\n",
       "    </tr>\n",
       "    <tr>\n",
       "      <th>16</th>\n",
       "      <td>2018-02-08</td>\n",
       "      <td>160.289993</td>\n",
       "      <td>161.000000</td>\n",
       "      <td>155.029999</td>\n",
       "      <td>155.149994</td>\n",
       "      <td>154.520004</td>\n",
       "      <td>54390500</td>\n",
       "    </tr>\n",
       "    <tr>\n",
       "      <th>17</th>\n",
       "      <td>2018-02-09</td>\n",
       "      <td>157.070007</td>\n",
       "      <td>157.889999</td>\n",
       "      <td>150.240005</td>\n",
       "      <td>156.410004</td>\n",
       "      <td>156.410004</td>\n",
       "      <td>70672600</td>\n",
       "    </tr>\n",
       "    <tr>\n",
       "      <th>18</th>\n",
       "      <td>2018-02-12</td>\n",
       "      <td>158.500000</td>\n",
       "      <td>163.889999</td>\n",
       "      <td>157.509995</td>\n",
       "      <td>162.710007</td>\n",
       "      <td>162.710007</td>\n",
       "      <td>60819500</td>\n",
       "    </tr>\n",
       "    <tr>\n",
       "      <th>19</th>\n",
       "      <td>2018-02-13</td>\n",
       "      <td>161.949997</td>\n",
       "      <td>164.750000</td>\n",
       "      <td>161.649994</td>\n",
       "      <td>164.339996</td>\n",
       "      <td>164.339996</td>\n",
       "      <td>32549200</td>\n",
       "    </tr>\n",
       "    <tr>\n",
       "      <th>20</th>\n",
       "      <td>2018-02-14</td>\n",
       "      <td>163.039993</td>\n",
       "      <td>167.539993</td>\n",
       "      <td>162.880005</td>\n",
       "      <td>167.369995</td>\n",
       "      <td>167.369995</td>\n",
       "      <td>40644900</td>\n",
       "    </tr>\n",
       "  </tbody>\n",
       "</table>\n",
       "</div>"
      ],
      "text/plain": [
       "          Date        Open        High         Low       Close   Adj Close  \\\n",
       "10  2018-01-31  166.869995  168.440002  166.500000  167.429993  166.750137   \n",
       "11  2018-02-01  167.169998  168.619995  166.759995  167.779999  167.098724   \n",
       "12  2018-02-02  166.000000  166.800003  160.100006  160.500000  159.848282   \n",
       "13  2018-02-05  159.100006  163.880005  156.000000  156.490005  155.854568   \n",
       "14  2018-02-06  154.830002  163.720001  154.000000  163.029999  162.368011   \n",
       "15  2018-02-07  163.089996  163.399994  159.070007  159.539993  158.892166   \n",
       "16  2018-02-08  160.289993  161.000000  155.029999  155.149994  154.520004   \n",
       "17  2018-02-09  157.070007  157.889999  150.240005  156.410004  156.410004   \n",
       "18  2018-02-12  158.500000  163.889999  157.509995  162.710007  162.710007   \n",
       "19  2018-02-13  161.949997  164.750000  161.649994  164.339996  164.339996   \n",
       "20  2018-02-14  163.039993  167.539993  162.880005  167.369995  167.369995   \n",
       "\n",
       "      Volume  \n",
       "10  32478900  \n",
       "11  47230800  \n",
       "12  86593800  \n",
       "13  72738500  \n",
       "14  68243800  \n",
       "15  51608600  \n",
       "16  54390500  \n",
       "17  70672600  \n",
       "18  60819500  \n",
       "19  32549200  \n",
       "20  40644900  "
      ]
     },
     "execution_count": 4,
     "metadata": {},
     "output_type": "execute_result"
    }
   ],
   "source": [
    "### select rows from 10 to 20\n",
    "df[10:21]"
   ]
  },
  {
   "cell_type": "markdown",
   "metadata": {},
   "source": [
    "### Max closing price"
   ]
  },
  {
   "cell_type": "code",
   "execution_count": 5,
   "metadata": {},
   "outputs": [
    {
     "name": "stdout",
     "output_type": "stream",
     "text": [
      "Max close: AAPL 179.259995\n",
      "Max close: IBM 169.119995\n"
     ]
    }
   ],
   "source": [
    "def get_max_close(symbol):\n",
    "    \"\"\"\n",
    "    Return the max closing value for stock indicated by symbol.\n",
    "    Note: Data for a stock is stored in file: data/<symbol>.csv\n",
    "    \"\"\"\n",
    "    df = pd.read_csv(\"data/{}.csv\".format(symbol))\n",
    "    return df['Close'].max()\n",
    "\n",
    "for symbol in ['AAPL', 'IBM']:\n",
    "    print \"Max close:\", symbol, get_max_close(symbol)"
   ]
  },
  {
   "cell_type": "markdown",
   "metadata": {},
   "source": [
    "### Mean volume"
   ]
  },
  {
   "cell_type": "code",
   "execution_count": 6,
   "metadata": {},
   "outputs": [
    {
     "name": "stdout",
     "output_type": "stream",
     "text": [
      "Mean volume: AAPL 47623921.7391\n",
      "Mean volume: IBM 7108169.56522\n"
     ]
    }
   ],
   "source": [
    "def get_mean_volume(symbol):\n",
    "    \"\"\"Return the mean volume for stock indicated by symbol.\n",
    "    \n",
    "    Note: Data for a stock is stored in file: data/<symbol>.csv\n",
    "    \"\"\"\n",
    "    df = pd.read_csv(\"data/{}.csv\".format(symbol))\n",
    "    return df['Volume'].mean()\n",
    "\n",
    "for symbol in ['AAPL', 'IBM']:\n",
    "    print \"Mean volume:\", symbol, get_mean_volume(symbol)"
   ]
  },
  {
   "cell_type": "markdown",
   "metadata": {},
   "source": [
    "### Plot stock price data"
   ]
  },
  {
   "cell_type": "code",
   "execution_count": 7,
   "metadata": {},
   "outputs": [
    {
     "name": "stdout",
     "output_type": "stream",
     "text": [
      "0     178.372757\n",
      "1     178.532104\n",
      "2     177.735352\n",
      "3     176.281281\n",
      "4     176.321106\n",
      "5     173.512573\n",
      "6     170.415192\n",
      "7     170.813568\n",
      "8     167.278000\n",
      "9     166.292007\n",
      "10    166.750137\n",
      "11    167.098724\n",
      "12    159.848282\n",
      "13    155.854568\n",
      "14    162.368011\n",
      "15    158.892166\n",
      "16    154.520004\n",
      "17    156.410004\n",
      "18    162.710007\n",
      "19    164.339996\n",
      "20    167.369995\n",
      "21    172.990005\n",
      "22    172.429993\n",
      "Name: Adj Close, dtype: float64\n"
     ]
    },
    {
     "data": {
      "image/png": "[encoded data removed]",
      "text/plain": [
       "<matplotlib.figure.Figure at 0x8a272b0>"
      ]
     },
     "metadata": {},
     "output_type": "display_data"
    }
   ],
   "source": [
    "df = pd.read_csv(\"data/AAPL.csv\")\n",
    "print df['Adj Close']\n",
    "\n",
    "df['Adj Close'].plot()\n",
    "plt.show()"
   ]
  },
  {
   "cell_type": "code",
   "execution_count": 8,
   "metadata": {},
   "outputs": [
    {
     "data": {
      "image/png": "[encoded data removed]",
      "text/plain": [
       "<matplotlib.figure.Figure at 0x8cbd860>"
      ]
     },
     "metadata": {},
     "output_type": "display_data"
    }
   ],
   "source": [
    "# Plot 2 values\n",
    "df = pd.read_csv(\"data/AAPL.csv\")\n",
    "df[['Close', 'Adj Close']].plot()\n",
    "plt.show()"
   ]
  }
 ],
 "metadata": {
  "kernelspec": {
   "display_name": "Python 2",
   "language": "python",
   "name": "python2"
  },
  "language_info": {
   "codemirror_mode": {
    "name": "ipython",
    "version": 2
   },
   "file_extension": ".py",
   "mimetype": "text/x-python",
   "name": "python",
   "nbconvert_exporter": "python",
   "pygments_lexer": "ipython2",
   "version": "2.7.14"
  }
 },
 "nbformat": 4,
 "nbformat_minor": 2
}
