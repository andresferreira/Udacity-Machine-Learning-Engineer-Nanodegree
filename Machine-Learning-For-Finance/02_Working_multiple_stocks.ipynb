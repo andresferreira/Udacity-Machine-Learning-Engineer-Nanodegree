{
 "cells": [
  {
   "cell_type": "code",
   "execution_count": 1,
   "metadata": {},
   "outputs": [],
   "source": [
    "import pandas as pd\n",
    "import matplotlib.pyplot as plt"
   ]
  },
  {
   "cell_type": "code",
   "execution_count": 2,
   "metadata": {},
   "outputs": [],
   "source": [
    "start_date = '2010-01-22'\n",
    "end_date = '2010-01-26'\n",
    "dates = pd.date_range(start_date, end_date)"
   ]
  },
  {
   "cell_type": "code",
   "execution_count": 3,
   "metadata": {},
   "outputs": [
    {
     "data": {
      "text/html": [
       "<div>\n",
       "<style scoped>\n",
       "    .dataframe tbody tr th:only-of-type {\n",
       "        vertical-align: middle;\n",
       "    }\n",
       "\n",
       "    .dataframe tbody tr th {\n",
       "        vertical-align: top;\n",
       "    }\n",
       "\n",
       "    .dataframe thead th {\n",
       "        text-align: right;\n",
       "    }\n",
       "</style>\n",
       "<table border=\"1\" class=\"dataframe\">\n",
       "  <thead>\n",
       "    <tr style=\"text-align: right;\">\n",
       "      <th></th>\n",
       "    </tr>\n",
       "  </thead>\n",
       "  <tbody>\n",
       "    <tr>\n",
       "      <th>2010-01-22</th>\n",
       "    </tr>\n",
       "    <tr>\n",
       "      <th>2010-01-23</th>\n",
       "    </tr>\n",
       "    <tr>\n",
       "      <th>2010-01-24</th>\n",
       "    </tr>\n",
       "    <tr>\n",
       "      <th>2010-01-25</th>\n",
       "    </tr>\n",
       "    <tr>\n",
       "      <th>2010-01-26</th>\n",
       "    </tr>\n",
       "  </tbody>\n",
       "</table>\n",
       "</div>"
      ],
      "text/plain": [
       "Empty DataFrame\n",
       "Columns: []\n",
       "Index: [2010-01-22 00:00:00, 2010-01-23 00:00:00, 2010-01-24 00:00:00, 2010-01-25 00:00:00, 2010-01-26 00:00:00]"
      ]
     },
     "execution_count": 3,
     "metadata": {},
     "output_type": "execute_result"
    }
   ],
   "source": [
    "df1 = pd.DataFrame(index=dates)\n",
    "df1"
   ]
  },
  {
   "cell_type": "code",
   "execution_count": 4,
   "metadata": {},
   "outputs": [
    {
     "data": {
      "text/html": [
       "<div>\n",
       "<style scoped>\n",
       "    .dataframe tbody tr th:only-of-type {\n",
       "        vertical-align: middle;\n",
       "    }\n",
       "\n",
       "    .dataframe tbody tr th {\n",
       "        vertical-align: top;\n",
       "    }\n",
       "\n",
       "    .dataframe thead th {\n",
       "        text-align: right;\n",
       "    }\n",
       "</style>\n",
       "<table border=\"1\" class=\"dataframe\">\n",
       "  <thead>\n",
       "    <tr style=\"text-align: right;\">\n",
       "      <th></th>\n",
       "      <th>Adj Close</th>\n",
       "    </tr>\n",
       "    <tr>\n",
       "      <th>Date</th>\n",
       "      <th></th>\n",
       "    </tr>\n",
       "  </thead>\n",
       "  <tbody>\n",
       "    <tr>\n",
       "      <th>2009-02-17</th>\n",
       "      <td>65.820671</td>\n",
       "    </tr>\n",
       "    <tr>\n",
       "      <th>2009-02-18</th>\n",
       "      <td>65.662827</td>\n",
       "    </tr>\n",
       "    <tr>\n",
       "      <th>2009-02-19</th>\n",
       "      <td>64.956581</td>\n",
       "    </tr>\n",
       "    <tr>\n",
       "      <th>2009-02-20</th>\n",
       "      <td>64.325142</td>\n",
       "    </tr>\n",
       "    <tr>\n",
       "      <th>2009-02-23</th>\n",
       "      <td>62.023678</td>\n",
       "    </tr>\n",
       "  </tbody>\n",
       "</table>\n",
       "</div>"
      ],
      "text/plain": [
       "            Adj Close\n",
       "Date                 \n",
       "2009-02-17  65.820671\n",
       "2009-02-18  65.662827\n",
       "2009-02-19  64.956581\n",
       "2009-02-20  64.325142\n",
       "2009-02-23  62.023678"
      ]
     },
     "execution_count": 4,
     "metadata": {},
     "output_type": "execute_result"
    }
   ],
   "source": [
    "dfSPY = pd.read_csv(\n",
    "    'data/SPY.csv',\n",
    "    index_col='Date',\n",
    "    parse_dates=True,\n",
    "    usecols=['Date', 'Adj Close'],\n",
    "    na_values=['nan']\n",
    ")\n",
    "dfSPY.head()"
   ]
  },
  {
   "cell_type": "markdown",
   "metadata": {},
   "source": [
    "### Default join(left)"
   ]
  },
  {
   "cell_type": "code",
   "execution_count": 5,
   "metadata": {},
   "outputs": [
    {
     "data": {
      "text/html": [
       "<div>\n",
       "<style scoped>\n",
       "    .dataframe tbody tr th:only-of-type {\n",
       "        vertical-align: middle;\n",
       "    }\n",
       "\n",
       "    .dataframe tbody tr th {\n",
       "        vertical-align: top;\n",
       "    }\n",
       "\n",
       "    .dataframe thead th {\n",
       "        text-align: right;\n",
       "    }\n",
       "</style>\n",
       "<table border=\"1\" class=\"dataframe\">\n",
       "  <thead>\n",
       "    <tr style=\"text-align: right;\">\n",
       "      <th></th>\n",
       "      <th>Adj Close</th>\n",
       "    </tr>\n",
       "  </thead>\n",
       "  <tbody>\n",
       "    <tr>\n",
       "      <th>2010-01-22</th>\n",
       "      <td>92.838760</td>\n",
       "    </tr>\n",
       "    <tr>\n",
       "      <th>2010-01-23</th>\n",
       "      <td>NaN</td>\n",
       "    </tr>\n",
       "    <tr>\n",
       "      <th>2010-01-24</th>\n",
       "      <td>NaN</td>\n",
       "    </tr>\n",
       "    <tr>\n",
       "      <th>2010-01-25</th>\n",
       "      <td>93.314789</td>\n",
       "    </tr>\n",
       "    <tr>\n",
       "      <th>2010-01-26</th>\n",
       "      <td>92.923737</td>\n",
       "    </tr>\n",
       "  </tbody>\n",
       "</table>\n",
       "</div>"
      ],
      "text/plain": [
       "            Adj Close\n",
       "2010-01-22  92.838760\n",
       "2010-01-23        NaN\n",
       "2010-01-24        NaN\n",
       "2010-01-25  93.314789\n",
       "2010-01-26  92.923737"
      ]
     },
     "execution_count": 5,
     "metadata": {},
     "output_type": "execute_result"
    }
   ],
   "source": [
    "df1 = df1.join(dfSPY)\n",
    "df1"
   ]
  },
  {
   "cell_type": "code",
   "execution_count": 6,
   "metadata": {},
   "outputs": [
    {
     "data": {
      "text/html": [
       "<div>\n",
       "<style scoped>\n",
       "    .dataframe tbody tr th:only-of-type {\n",
       "        vertical-align: middle;\n",
       "    }\n",
       "\n",
       "    .dataframe tbody tr th {\n",
       "        vertical-align: top;\n",
       "    }\n",
       "\n",
       "    .dataframe thead th {\n",
       "        text-align: right;\n",
       "    }\n",
       "</style>\n",
       "<table border=\"1\" class=\"dataframe\">\n",
       "  <thead>\n",
       "    <tr style=\"text-align: right;\">\n",
       "      <th></th>\n",
       "      <th>Adj Close</th>\n",
       "    </tr>\n",
       "  </thead>\n",
       "  <tbody>\n",
       "    <tr>\n",
       "      <th>2010-01-22</th>\n",
       "      <td>92.838760</td>\n",
       "    </tr>\n",
       "    <tr>\n",
       "      <th>2010-01-25</th>\n",
       "      <td>93.314789</td>\n",
       "    </tr>\n",
       "    <tr>\n",
       "      <th>2010-01-26</th>\n",
       "      <td>92.923737</td>\n",
       "    </tr>\n",
       "  </tbody>\n",
       "</table>\n",
       "</div>"
      ],
      "text/plain": [
       "            Adj Close\n",
       "2010-01-22  92.838760\n",
       "2010-01-25  93.314789\n",
       "2010-01-26  92.923737"
      ]
     },
     "execution_count": 6,
     "metadata": {},
     "output_type": "execute_result"
    }
   ],
   "source": [
    "df1 = df1.dropna()\n",
    "df1"
   ]
  },
  {
   "cell_type": "markdown",
   "metadata": {},
   "source": [
    "### Inner join"
   ]
  },
  {
   "cell_type": "code",
   "execution_count": 7,
   "metadata": {},
   "outputs": [
    {
     "data": {
      "text/html": [
       "<div>\n",
       "<style scoped>\n",
       "    .dataframe tbody tr th:only-of-type {\n",
       "        vertical-align: middle;\n",
       "    }\n",
       "\n",
       "    .dataframe tbody tr th {\n",
       "        vertical-align: top;\n",
       "    }\n",
       "\n",
       "    .dataframe thead th {\n",
       "        text-align: right;\n",
       "    }\n",
       "</style>\n",
       "<table border=\"1\" class=\"dataframe\">\n",
       "  <thead>\n",
       "    <tr style=\"text-align: right;\">\n",
       "      <th></th>\n",
       "      <th>Adj Close</th>\n",
       "    </tr>\n",
       "  </thead>\n",
       "  <tbody>\n",
       "    <tr>\n",
       "      <th>2010-01-22</th>\n",
       "      <td>92.838760</td>\n",
       "    </tr>\n",
       "    <tr>\n",
       "      <th>2010-01-25</th>\n",
       "      <td>93.314789</td>\n",
       "    </tr>\n",
       "    <tr>\n",
       "      <th>2010-01-26</th>\n",
       "      <td>92.923737</td>\n",
       "    </tr>\n",
       "  </tbody>\n",
       "</table>\n",
       "</div>"
      ],
      "text/plain": [
       "            Adj Close\n",
       "2010-01-22  92.838760\n",
       "2010-01-25  93.314789\n",
       "2010-01-26  92.923737"
      ]
     },
     "execution_count": 7,
     "metadata": {},
     "output_type": "execute_result"
    }
   ],
   "source": [
    "# Dont need to filter out na\n",
    "df1 = pd.DataFrame(index=dates)\n",
    "df1 = df1.join(dfSPY, how='inner')\n",
    "df1"
   ]
  },
  {
   "cell_type": "markdown",
   "metadata": {},
   "source": [
    "### Combine dataframes"
   ]
  },
  {
   "cell_type": "code",
   "execution_count": 8,
   "metadata": {},
   "outputs": [
    {
     "data": {
      "text/html": [
       "<div>\n",
       "<style scoped>\n",
       "    .dataframe tbody tr th:only-of-type {\n",
       "        vertical-align: middle;\n",
       "    }\n",
       "\n",
       "    .dataframe tbody tr th {\n",
       "        vertical-align: top;\n",
       "    }\n",
       "\n",
       "    .dataframe thead th {\n",
       "        text-align: right;\n",
       "    }\n",
       "</style>\n",
       "<table border=\"1\" class=\"dataframe\">\n",
       "  <thead>\n",
       "    <tr style=\"text-align: right;\">\n",
       "      <th></th>\n",
       "      <th>SPY</th>\n",
       "      <th>GOOG</th>\n",
       "      <th>IBM</th>\n",
       "      <th>GLD</th>\n",
       "    </tr>\n",
       "  </thead>\n",
       "  <tbody>\n",
       "    <tr>\n",
       "      <th>2010-01-22</th>\n",
       "      <td>92.838760</td>\n",
       "      <td>273.227905</td>\n",
       "      <td>101.422798</td>\n",
       "      <td>107.169998</td>\n",
       "    </tr>\n",
       "    <tr>\n",
       "      <th>2010-01-25</th>\n",
       "      <td>93.314789</td>\n",
       "      <td>268.255249</td>\n",
       "      <td>101.923859</td>\n",
       "      <td>107.480003</td>\n",
       "    </tr>\n",
       "    <tr>\n",
       "      <th>2010-01-26</th>\n",
       "      <td>92.923737</td>\n",
       "      <td>269.457428</td>\n",
       "      <td>101.624863</td>\n",
       "      <td>107.559998</td>\n",
       "    </tr>\n",
       "  </tbody>\n",
       "</table>\n",
       "</div>"
      ],
      "text/plain": [
       "                  SPY        GOOG         IBM         GLD\n",
       "2010-01-22  92.838760  273.227905  101.422798  107.169998\n",
       "2010-01-25  93.314789  268.255249  101.923859  107.480003\n",
       "2010-01-26  92.923737  269.457428  101.624863  107.559998"
      ]
     },
     "execution_count": 8,
     "metadata": {},
     "output_type": "execute_result"
    }
   ],
   "source": [
    "\"\"\"Utility functions\"\"\"\n",
    "import os\n",
    "import pandas as pd\n",
    "\n",
    "\n",
    "def symbol_to_path(symbol, base_dir='data'):\n",
    "    \"\"\"Return csv file path given ticker symbol\"\"\"\n",
    "    return os.path.join(base_dir, \"{}.csv\".format(str(symbol)))\n",
    "\n",
    "\n",
    "def get_data(symbols, dates):\n",
    "    \"\"\"Read stock data (adjusted close) for given symbols from CSV files\"\"\"\n",
    "    df = pd.DataFrame(index=dates)\n",
    "    \n",
    "    # add SPY for reference, if absent\n",
    "    if 'SPY' not in symbols:\n",
    "        symbols.insert(0, 'SPY')\n",
    "        \n",
    "    for symbol in symbols:\n",
    "        df_temp = pd.read_csv(\n",
    "            'data/{}.csv'.format(symbol),\n",
    "            index_col='Date',\n",
    "            parse_dates=True,\n",
    "            usecols=['Date', 'Adj Close'],\n",
    "            na_values=['nan'])\n",
    "    \n",
    "        # rename to prevent crashing\n",
    "        df_temp = df_temp.rename(columns={'Adj Close': symbol})\n",
    "\n",
    "        # Join\n",
    "        df = df.join(df_temp, how='inner')\n",
    "        \n",
    "        # drop dates SPY did not trade\n",
    "        if symbol == 'SPY':\n",
    "            df = df.dropna(subset=['SPY'])\n",
    "    return df\n",
    "\n",
    "\n",
    "# test\n",
    "## Define a date range\n",
    "dates = pd.date_range('2010-01-22', '2010-01-26')\n",
    "\n",
    "## Choose stock symbols to read\n",
    "symbols = ['GOOG', 'IBM', 'GLD']\n",
    "\n",
    "## Get stock data\n",
    "df = get_data(symbols, dates)\n",
    "df"
   ]
  },
  {
   "cell_type": "markdown",
   "metadata": {},
   "source": [
    "### Slicing"
   ]
  },
  {
   "cell_type": "code",
   "execution_count": 9,
   "metadata": {},
   "outputs": [],
   "source": [
    "## Define a date range (year = 2010)\n",
    "dates = pd.date_range('2010-01-01', '2010-12-31')\n",
    "\n",
    "## Choose stock symbols to read\n",
    "symbols = ['GOOG', 'IBM', 'GLD']\n",
    "\n",
    "## Get stock data\n",
    "df = get_data(symbols, dates)"
   ]
  },
  {
   "cell_type": "code",
   "execution_count": 10,
   "metadata": {},
   "outputs": [
    {
     "name": "stderr",
     "output_type": "stream",
     "text": [
      "C:\\ProgramData\\Anaconda3\\envs\\py27\\lib\\site-packages\\ipykernel_launcher.py:2: DeprecationWarning: \n",
      ".ix is deprecated. Please use\n",
      ".loc for label based indexing or\n",
      ".iloc for positional indexing\n",
      "\n",
      "See the documentation here:\n",
      "http://pandas.pydata.org/pandas-docs/stable/indexing.html#ix-indexer-is-deprecated\n",
      "  \n"
     ]
    },
    {
     "data": {
      "text/html": [
       "<div>\n",
       "<style scoped>\n",
       "    .dataframe tbody tr th:only-of-type {\n",
       "        vertical-align: middle;\n",
       "    }\n",
       "\n",
       "    .dataframe tbody tr th {\n",
       "        vertical-align: top;\n",
       "    }\n",
       "\n",
       "    .dataframe thead th {\n",
       "        text-align: right;\n",
       "    }\n",
       "</style>\n",
       "<table border=\"1\" class=\"dataframe\">\n",
       "  <thead>\n",
       "    <tr style=\"text-align: right;\">\n",
       "      <th></th>\n",
       "      <th>SPY</th>\n",
       "      <th>GOOG</th>\n",
       "      <th>IBM</th>\n",
       "      <th>GLD</th>\n",
       "    </tr>\n",
       "  </thead>\n",
       "  <tbody>\n",
       "    <tr>\n",
       "      <th>2010-01-04</th>\n",
       "      <td>96.341141</td>\n",
       "      <td>311.349976</td>\n",
       "      <td>107.039436</td>\n",
       "      <td>109.800003</td>\n",
       "    </tr>\n",
       "    <tr>\n",
       "      <th>2010-01-05</th>\n",
       "      <td>96.596169</td>\n",
       "      <td>309.978882</td>\n",
       "      <td>105.746422</td>\n",
       "      <td>109.699997</td>\n",
       "    </tr>\n",
       "    <tr>\n",
       "      <th>2010-01-06</th>\n",
       "      <td>96.664169</td>\n",
       "      <td>302.164703</td>\n",
       "      <td>105.059486</td>\n",
       "      <td>111.510002</td>\n",
       "    </tr>\n",
       "    <tr>\n",
       "      <th>2010-01-07</th>\n",
       "      <td>97.072220</td>\n",
       "      <td>295.130463</td>\n",
       "      <td>104.695839</td>\n",
       "      <td>110.820000</td>\n",
       "    </tr>\n",
       "    <tr>\n",
       "      <th>2010-01-08</th>\n",
       "      <td>97.395248</td>\n",
       "      <td>299.064880</td>\n",
       "      <td>105.746422</td>\n",
       "      <td>111.370003</td>\n",
       "    </tr>\n",
       "    <tr>\n",
       "      <th>2010-01-11</th>\n",
       "      <td>97.531265</td>\n",
       "      <td>298.612823</td>\n",
       "      <td>104.639252</td>\n",
       "      <td>112.849998</td>\n",
       "    </tr>\n",
       "    <tr>\n",
       "      <th>2010-01-12</th>\n",
       "      <td>96.621658</td>\n",
       "      <td>293.332153</td>\n",
       "      <td>105.471634</td>\n",
       "      <td>110.489998</td>\n",
       "    </tr>\n",
       "    <tr>\n",
       "      <th>2010-01-13</th>\n",
       "      <td>97.437737</td>\n",
       "      <td>291.648102</td>\n",
       "      <td>105.245346</td>\n",
       "      <td>111.540001</td>\n",
       "    </tr>\n",
       "    <tr>\n",
       "      <th>2010-01-14</th>\n",
       "      <td>97.701286</td>\n",
       "      <td>293.019196</td>\n",
       "      <td>106.926292</td>\n",
       "      <td>112.029999</td>\n",
       "    </tr>\n",
       "    <tr>\n",
       "      <th>2010-01-15</th>\n",
       "      <td>96.604675</td>\n",
       "      <td>288.126007</td>\n",
       "      <td>106.497978</td>\n",
       "      <td>110.860001</td>\n",
       "    </tr>\n",
       "    <tr>\n",
       "      <th>2010-01-19</th>\n",
       "      <td>97.811783</td>\n",
       "      <td>291.911407</td>\n",
       "      <td>108.405212</td>\n",
       "      <td>111.519997</td>\n",
       "    </tr>\n",
       "    <tr>\n",
       "      <th>2010-01-20</th>\n",
       "      <td>96.817169</td>\n",
       "      <td>288.329681</td>\n",
       "      <td>105.261520</td>\n",
       "      <td>108.940002</td>\n",
       "    </tr>\n",
       "    <tr>\n",
       "      <th>2010-01-21</th>\n",
       "      <td>94.955482</td>\n",
       "      <td>289.606384</td>\n",
       "      <td>104.251320</td>\n",
       "      <td>107.370003</td>\n",
       "    </tr>\n",
       "    <tr>\n",
       "      <th>2010-01-22</th>\n",
       "      <td>92.838760</td>\n",
       "      <td>273.227905</td>\n",
       "      <td>101.422798</td>\n",
       "      <td>107.169998</td>\n",
       "    </tr>\n",
       "    <tr>\n",
       "      <th>2010-01-25</th>\n",
       "      <td>93.314789</td>\n",
       "      <td>268.255249</td>\n",
       "      <td>101.923859</td>\n",
       "      <td>107.480003</td>\n",
       "    </tr>\n",
       "    <tr>\n",
       "      <th>2010-01-26</th>\n",
       "      <td>92.923737</td>\n",
       "      <td>269.457428</td>\n",
       "      <td>101.624863</td>\n",
       "      <td>107.559998</td>\n",
       "    </tr>\n",
       "    <tr>\n",
       "      <th>2010-01-27</th>\n",
       "      <td>93.365807</td>\n",
       "      <td>269.298462</td>\n",
       "      <td>102.093582</td>\n",
       "      <td>106.529999</td>\n",
       "    </tr>\n",
       "    <tr>\n",
       "      <th>2010-01-28</th>\n",
       "      <td>92.294701</td>\n",
       "      <td>265.418701</td>\n",
       "      <td>100.008553</td>\n",
       "      <td>106.480003</td>\n",
       "    </tr>\n",
       "    <tr>\n",
       "      <th>2010-01-29</th>\n",
       "      <td>91.291580</td>\n",
       "      <td>263.257751</td>\n",
       "      <td>98.909454</td>\n",
       "      <td>105.959999</td>\n",
       "    </tr>\n",
       "  </tbody>\n",
       "</table>\n",
       "</div>"
      ],
      "text/plain": [
       "                  SPY        GOOG         IBM         GLD\n",
       "2010-01-04  96.341141  311.349976  107.039436  109.800003\n",
       "2010-01-05  96.596169  309.978882  105.746422  109.699997\n",
       "2010-01-06  96.664169  302.164703  105.059486  111.510002\n",
       "2010-01-07  97.072220  295.130463  104.695839  110.820000\n",
       "2010-01-08  97.395248  299.064880  105.746422  111.370003\n",
       "2010-01-11  97.531265  298.612823  104.639252  112.849998\n",
       "2010-01-12  96.621658  293.332153  105.471634  110.489998\n",
       "2010-01-13  97.437737  291.648102  105.245346  111.540001\n",
       "2010-01-14  97.701286  293.019196  106.926292  112.029999\n",
       "2010-01-15  96.604675  288.126007  106.497978  110.860001\n",
       "2010-01-19  97.811783  291.911407  108.405212  111.519997\n",
       "2010-01-20  96.817169  288.329681  105.261520  108.940002\n",
       "2010-01-21  94.955482  289.606384  104.251320  107.370003\n",
       "2010-01-22  92.838760  273.227905  101.422798  107.169998\n",
       "2010-01-25  93.314789  268.255249  101.923859  107.480003\n",
       "2010-01-26  92.923737  269.457428  101.624863  107.559998\n",
       "2010-01-27  93.365807  269.298462  102.093582  106.529999\n",
       "2010-01-28  92.294701  265.418701  100.008553  106.480003\n",
       "2010-01-29  91.291580  263.257751   98.909454  105.959999"
      ]
     },
     "execution_count": 10,
     "metadata": {},
     "output_type": "execute_result"
    }
   ],
   "source": [
    "## Slice by rows (year = 2010, month = Jan)\n",
    "df.ix['2010-01-01':'2010-01-31']"
   ]
  },
  {
   "cell_type": "code",
   "execution_count": 11,
   "metadata": {},
   "outputs": [
    {
     "data": {
      "text/plain": [
       "2010-01-04    311.349976\n",
       "2010-01-05    309.978882\n",
       "2010-01-06    302.164703\n",
       "2010-01-07    295.130463\n",
       "2010-01-08    299.064880\n",
       "Name: GOOG, dtype: float64"
      ]
     },
     "execution_count": 11,
     "metadata": {},
     "output_type": "execute_result"
    }
   ],
   "source": [
    "## slice 1 column\n",
    "df['GOOG'].head()"
   ]
  },
  {
   "cell_type": "code",
   "execution_count": 12,
   "metadata": {},
   "outputs": [
    {
     "data": {
      "text/html": [
       "<div>\n",
       "<style scoped>\n",
       "    .dataframe tbody tr th:only-of-type {\n",
       "        vertical-align: middle;\n",
       "    }\n",
       "\n",
       "    .dataframe tbody tr th {\n",
       "        vertical-align: top;\n",
       "    }\n",
       "\n",
       "    .dataframe thead th {\n",
       "        text-align: right;\n",
       "    }\n",
       "</style>\n",
       "<table border=\"1\" class=\"dataframe\">\n",
       "  <thead>\n",
       "    <tr style=\"text-align: right;\">\n",
       "      <th></th>\n",
       "      <th>IBM</th>\n",
       "      <th>GLD</th>\n",
       "    </tr>\n",
       "  </thead>\n",
       "  <tbody>\n",
       "    <tr>\n",
       "      <th>2010-01-04</th>\n",
       "      <td>107.039436</td>\n",
       "      <td>109.800003</td>\n",
       "    </tr>\n",
       "    <tr>\n",
       "      <th>2010-01-05</th>\n",
       "      <td>105.746422</td>\n",
       "      <td>109.699997</td>\n",
       "    </tr>\n",
       "    <tr>\n",
       "      <th>2010-01-06</th>\n",
       "      <td>105.059486</td>\n",
       "      <td>111.510002</td>\n",
       "    </tr>\n",
       "    <tr>\n",
       "      <th>2010-01-07</th>\n",
       "      <td>104.695839</td>\n",
       "      <td>110.820000</td>\n",
       "    </tr>\n",
       "    <tr>\n",
       "      <th>2010-01-08</th>\n",
       "      <td>105.746422</td>\n",
       "      <td>111.370003</td>\n",
       "    </tr>\n",
       "  </tbody>\n",
       "</table>\n",
       "</div>"
      ],
      "text/plain": [
       "                   IBM         GLD\n",
       "2010-01-04  107.039436  109.800003\n",
       "2010-01-05  105.746422  109.699997\n",
       "2010-01-06  105.059486  111.510002\n",
       "2010-01-07  104.695839  110.820000\n",
       "2010-01-08  105.746422  111.370003"
      ]
     },
     "execution_count": 12,
     "metadata": {},
     "output_type": "execute_result"
    }
   ],
   "source": [
    "## slice by columns\n",
    "df[['IBM', 'GLD']].head()"
   ]
  },
  {
   "cell_type": "code",
   "execution_count": 13,
   "metadata": {},
   "outputs": [
    {
     "data": {
      "text/html": [
       "<div>\n",
       "<style scoped>\n",
       "    .dataframe tbody tr th:only-of-type {\n",
       "        vertical-align: middle;\n",
       "    }\n",
       "\n",
       "    .dataframe tbody tr th {\n",
       "        vertical-align: top;\n",
       "    }\n",
       "\n",
       "    .dataframe thead th {\n",
       "        text-align: right;\n",
       "    }\n",
       "</style>\n",
       "<table border=\"1\" class=\"dataframe\">\n",
       "  <thead>\n",
       "    <tr style=\"text-align: right;\">\n",
       "      <th></th>\n",
       "      <th>SPY</th>\n",
       "      <th>IBM</th>\n",
       "    </tr>\n",
       "  </thead>\n",
       "  <tbody>\n",
       "    <tr>\n",
       "      <th>2010-03-10</th>\n",
       "      <td>97.735283</td>\n",
       "      <td>101.973839</td>\n",
       "    </tr>\n",
       "    <tr>\n",
       "      <th>2010-03-11</th>\n",
       "      <td>98.143333</td>\n",
       "      <td>103.581131</td>\n",
       "    </tr>\n",
       "    <tr>\n",
       "      <th>2010-03-12</th>\n",
       "      <td>98.151855</td>\n",
       "      <td>103.857132</td>\n",
       "    </tr>\n",
       "    <tr>\n",
       "      <th>2010-03-15</th>\n",
       "      <td>98.177315</td>\n",
       "      <td>103.767838</td>\n",
       "    </tr>\n",
       "  </tbody>\n",
       "</table>\n",
       "</div>"
      ],
      "text/plain": [
       "                  SPY         IBM\n",
       "2010-03-10  97.735283  101.973839\n",
       "2010-03-11  98.143333  103.581131\n",
       "2010-03-12  98.151855  103.857132\n",
       "2010-03-15  98.177315  103.767838"
      ]
     },
     "execution_count": 13,
     "metadata": {},
     "output_type": "execute_result"
    }
   ],
   "source": [
    "## slice by row and columns\n",
    "df.ix['2010-03-10':'2010-03-15', ['SPY', 'IBM']] # Same\n",
    "df.loc['2010-03-10':'2010-03-15', ['SPY', 'IBM']] # Same"
   ]
  },
  {
   "cell_type": "markdown",
   "metadata": {},
   "source": [
    "### Plotting"
   ]
  },
  {
   "cell_type": "code",
   "execution_count": 14,
   "metadata": {},
   "outputs": [
    {
     "data": {
      "image/png": "[encoded data removed]",
      "text/plain": [
       "<matplotlib.figure.Figure at 0x89c9390>"
      ]
     },
     "metadata": {},
     "output_type": "display_data"
    }
   ],
   "source": [
    "df = df.loc['2010-01-01':'2010-12-31']\n",
    "\n",
    "ax = df.plot(title='Stock prices')\n",
    "ax.set_xlabel('Date')\n",
    "ax.set_ylabel('Prices')\n",
    "\n",
    "plt.show()"
   ]
  },
  {
   "cell_type": "markdown",
   "metadata": {},
   "source": [
    "### Plot Normalized data"
   ]
  },
  {
   "cell_type": "code",
   "execution_count": 15,
   "metadata": {},
   "outputs": [
    {
     "data": {
      "text/plain": [
       "SPY      96.341141\n",
       "GOOG    311.349976\n",
       "IBM     107.039436\n",
       "GLD     109.800003\n",
       "Name: 2010-01-04 00:00:00, dtype: float64"
      ]
     },
     "execution_count": 15,
     "metadata": {},
     "output_type": "execute_result"
    }
   ],
   "source": [
    "df.iloc[0, :]"
   ]
  },
  {
   "cell_type": "code",
   "execution_count": 16,
   "metadata": {},
   "outputs": [
    {
     "data": {
      "image/png": "[encoded data removed]",
      "text/plain": [
       "<matplotlib.figure.Figure at 0x8e5e978>"
      ]
     },
     "metadata": {},
     "output_type": "display_data"
    }
   ],
   "source": [
    "df = df/df.iloc[0, :] # Or df = df/df.ix[0, :]\n",
    "\n",
    "ax = df.plot(title='Stock prices')\n",
    "ax.set_xlabel('Date')\n",
    "ax.set_ylabel('Prices')\n",
    "\n",
    "plt.show()"
   ]
  }
 ],
 "metadata": {
  "kernelspec": {
   "display_name": "Python 2",
   "language": "python",
   "name": "python2"
  },
  "language_info": {
   "codemirror_mode": {
    "name": "ipython",
    "version": 2
   },
   "file_extension": ".py",
   "mimetype": "text/x-python",
   "name": "python",
   "nbconvert_exporter": "python",
   "pygments_lexer": "ipython2",
   "version": "2.7.14"
  }
 },
 "nbformat": 4,
 "nbformat_minor": 2
}
