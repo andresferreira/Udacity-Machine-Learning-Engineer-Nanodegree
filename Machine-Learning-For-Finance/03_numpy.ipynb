{
 "cells": [
  {
   "cell_type": "code",
   "execution_count": 1,
   "metadata": {},
   "outputs": [],
   "source": [
    "import pandas as pd\n",
    "import numpy as np\n",
    "import matplotlib.pyplot as plt"
   ]
  },
  {
   "cell_type": "markdown",
   "metadata": {},
   "source": [
    "### Numpy array"
   ]
  },
  {
   "cell_type": "code",
   "execution_count": 2,
   "metadata": {},
   "outputs": [
    {
     "data": {
      "text/plain": [
       "array([2, 3, 4])"
      ]
     },
     "execution_count": 2,
     "metadata": {},
     "output_type": "execute_result"
    }
   ],
   "source": [
    "# 1D\n",
    "np.array([2,3,4])"
   ]
  },
  {
   "cell_type": "code",
   "execution_count": 3,
   "metadata": {},
   "outputs": [
    {
     "data": {
      "text/plain": [
       "array([[2, 3, 4],\n",
       "       [5, 6, 7]])"
      ]
     },
     "execution_count": 3,
     "metadata": {},
     "output_type": "execute_result"
    }
   ],
   "source": [
    "# 2D\n",
    "np.array([(2,3,4), (5,6,7)])"
   ]
  },
  {
   "cell_type": "code",
   "execution_count": 4,
   "metadata": {},
   "outputs": [
    {
     "data": {
      "text/plain": [
       "array([[ 1.,  1.,  1.,  1.],\n",
       "       [ 1.,  1.,  1.,  1.],\n",
       "       [ 1.,  1.,  1.,  1.],\n",
       "       [ 1.,  1.,  1.,  1.],\n",
       "       [ 1.,  1.,  1.,  1.]])"
      ]
     },
     "execution_count": 4,
     "metadata": {},
     "output_type": "execute_result"
    }
   ],
   "source": [
    "# ones matrix\n",
    "np.ones((5,4))"
   ]
  },
  {
   "cell_type": "code",
   "execution_count": 5,
   "metadata": {},
   "outputs": [
    {
     "data": {
      "text/plain": [
       "array([[1, 1, 1, 1],\n",
       "       [1, 1, 1, 1],\n",
       "       [1, 1, 1, 1],\n",
       "       [1, 1, 1, 1],\n",
       "       [1, 1, 1, 1]])"
      ]
     },
     "execution_count": 5,
     "metadata": {},
     "output_type": "execute_result"
    }
   ],
   "source": [
    "# type\n",
    "np.ones((5,4), dtype=np.int_)"
   ]
  },
  {
   "cell_type": "code",
   "execution_count": 6,
   "metadata": {},
   "outputs": [
    {
     "data": {
      "text/plain": [
       "array([[1, 0, 0, 0, 0],\n",
       "       [0, 1, 0, 0, 0],\n",
       "       [0, 0, 1, 0, 0],\n",
       "       [0, 0, 0, 1, 0],\n",
       "       [0, 0, 0, 0, 1]])"
      ]
     },
     "execution_count": 6,
     "metadata": {},
     "output_type": "execute_result"
    }
   ],
   "source": [
    "# eye\n",
    "np.eye((5), dtype=np.int_)"
   ]
  },
  {
   "cell_type": "markdown",
   "metadata": {},
   "source": [
    "### Random"
   ]
  },
  {
   "cell_type": "code",
   "execution_count": 7,
   "metadata": {},
   "outputs": [
    {
     "data": {
      "text/plain": [
       "array([[ 0.06356716,  0.27393115,  0.83639928,  0.61017919],\n",
       "       [ 0.44023365,  0.68780721,  0.28001829,  0.44633625],\n",
       "       [ 0.06221354,  0.01239281,  0.05039783,  0.11714536],\n",
       "       [ 0.01827301,  0.63598521,  0.97940565,  0.99830885],\n",
       "       [ 0.3575846 ,  0.67087718,  0.95267698,  0.60412638]])"
      ]
     },
     "execution_count": 7,
     "metadata": {},
     "output_type": "execute_result"
    }
   ],
   "source": [
    "# random uniformly [0,1)\n",
    "np.random.random((5,4))"
   ]
  },
  {
   "cell_type": "code",
   "execution_count": 8,
   "metadata": {},
   "outputs": [
    {
     "data": {
      "text/plain": [
       "array([[-0.64873491,  0.53493824,  0.02238095, -1.39469046],\n",
       "       [-0.08559045,  0.62865021, -0.41505988,  0.62893503],\n",
       "       [-2.09518329,  0.45086308,  0.91678133,  0.79292253],\n",
       "       [ 0.29890277, -1.55940361, -0.44932938, -0.72445901],\n",
       "       [-0.10104708, -0.15928221, -0.30197698,  0.497861  ]])"
      ]
     },
     "execution_count": 8,
     "metadata": {},
     "output_type": "execute_result"
    }
   ],
   "source": [
    "# random Gaussian distribution (mean=0, std=1)\n",
    "np.random.normal(size=(5,4))"
   ]
  },
  {
   "cell_type": "code",
   "execution_count": 9,
   "metadata": {},
   "outputs": [
    {
     "data": {
      "text/plain": [
       "array([[ 56.63547424,  40.28528768,  44.47864685,  48.7062822 ],\n",
       "       [ 52.22018014,  57.09544166,  44.43928335,  58.49078192],\n",
       "       [ 52.68317883,  64.24065593,  52.51018273,  58.59666952],\n",
       "       [ 58.88742772,  57.62294917,  30.64248113,  33.09322055],\n",
       "       [ 60.07923809,  40.82556235,  48.55052892,  46.6037034 ]])"
      ]
     },
     "execution_count": 9,
     "metadata": {},
     "output_type": "execute_result"
    }
   ],
   "source": [
    "# random Gaussian(normal) distribution (mean=50, std=10)\n",
    "np.random.normal(50, 10, size=(5,4))"
   ]
  },
  {
   "cell_type": "code",
   "execution_count": 10,
   "metadata": {},
   "outputs": [
    {
     "data": {
      "text/plain": [
       "array([[59, 54, 59, 58],\n",
       "       [58, 59, 59, 51],\n",
       "       [57, 54, 59, 57],\n",
       "       [59, 59, 55, 58],\n",
       "       [51, 52, 55, 55]])"
      ]
     },
     "execution_count": 10,
     "metadata": {},
     "output_type": "execute_result"
    }
   ],
   "source": [
    "# random Integer in range [50,60)\n",
    "np.random.randint(50, 60, size=(5,4))"
   ]
  },
  {
   "cell_type": "markdown",
   "metadata": {},
   "source": [
    "### Attributes"
   ]
  },
  {
   "cell_type": "code",
   "execution_count": 11,
   "metadata": {},
   "outputs": [
    {
     "name": "stdout",
     "output_type": "stream",
     "text": [
      "shape: (5L, 4L)\n",
      "number of rows: 5\n",
      "number of columns 4\n",
      "dimensions: 2\n",
      "number of elements: 20\n",
      "data type: float64\n"
     ]
    }
   ],
   "source": [
    "a = np.random.random((5,4))\n",
    "\n",
    "print \"shape:\", a.shape\n",
    "print \"number of rows:\", a.shape[0]\n",
    "print \"number of columns\", a.shape[1]\n",
    "print \"dimensions:\", len(a.shape)\n",
    "print \"number of elements:\", a.size\n",
    "print \"data type:\", a.dtype"
   ]
  },
  {
   "cell_type": "markdown",
   "metadata": {},
   "source": [
    "### Operations"
   ]
  },
  {
   "cell_type": "code",
   "execution_count": 12,
   "metadata": {},
   "outputs": [
    {
     "data": {
      "text/plain": [
       "array([[4, 3, 1, 3],\n",
       "       [0, 4, 3, 8],\n",
       "       [7, 7, 6, 9],\n",
       "       [3, 7, 3, 3],\n",
       "       [6, 5, 4, 5]])"
      ]
     },
     "execution_count": 12,
     "metadata": {},
     "output_type": "execute_result"
    }
   ],
   "source": [
    "np.random.seed(44)\n",
    "a = np.random.randint(0, 10, size=(5,4))\n",
    "a"
   ]
  },
  {
   "cell_type": "code",
   "execution_count": 13,
   "metadata": {},
   "outputs": [
    {
     "name": "stdout",
     "output_type": "stream",
     "text": [
      "Sum of each column [20 26 17 28]\n"
     ]
    }
   ],
   "source": [
    "# compute sum of each column\n",
    "print \"Sum of each column\", a.sum(axis=0)"
   ]
  },
  {
   "cell_type": "code",
   "execution_count": 14,
   "metadata": {},
   "outputs": [
    {
     "name": "stdout",
     "output_type": "stream",
     "text": [
      "Sum of each row [11 15 29 16 20]\n"
     ]
    }
   ],
   "source": [
    "# compute sum of each row\n",
    "print \"Sum of each row\", a.sum(axis=1)"
   ]
  },
  {
   "cell_type": "code",
   "execution_count": 15,
   "metadata": {},
   "outputs": [
    {
     "name": "stdout",
     "output_type": "stream",
     "text": [
      "Min of each col: [0 3 1 3]\n",
      "Max of each col: [7 7 6 9]\n",
      "Mean of each col: [ 4.   5.2  3.4  5.6]\n",
      "\n",
      "Min of each row: [1 0 6 3 4]\n",
      "Max of each row: [4 8 9 7 6]\n",
      "Mean of each row: [ 2.75  3.75  7.25  4.    5.  ]\n",
      "\n",
      "Min of all elements: 0\n",
      "Max of all elements: 9\n",
      "Mean of all elements: 4.55\n"
     ]
    }
   ],
   "source": [
    "# Stats: min, max, mean of cols\n",
    "print \"Min of each col:\", a.min(axis=0)\n",
    "print \"Max of each col:\", a.max(axis=0)\n",
    "print \"Mean of each col:\", a.mean(axis=0)\n",
    "print \"\"\n",
    "\n",
    "# Stats: min, max, mean of rows\n",
    "print \"Min of each row:\", a.min(axis=1)\n",
    "print \"Max of each row:\", a.max(axis=1)\n",
    "print \"Mean of each row:\", a.mean(axis=1)\n",
    "print \"\"\n",
    "\n",
    "# Stats: min, max, mean\n",
    "print \"Min of all elements:\", a.min()\n",
    "print \"Max of all elements:\", a.max()\n",
    "print \"Mean of all elements:\", a.mean()"
   ]
  },
  {
   "cell_type": "code",
   "execution_count": 16,
   "metadata": {},
   "outputs": [
    {
     "name": "stdout",
     "output_type": "stream",
     "text": [
      "Min of each col: [0 3 1 3] index: [1 0 0 0]\n",
      "Max of each col: [7 7 6 9] index: [2 2 2 2]\n",
      "\n",
      "Min of each row: [1 0 6 3 4] index: [2 0 2 0 2]\n",
      "Max of each row: [4 8 9 7 6] index: [0 3 3 1 0]\n",
      "\n",
      "Min of all elements: 0 index: 4\n",
      "Max of all elements: 9 index: 11\n"
     ]
    }
   ],
   "source": [
    "## Index\n",
    "\n",
    "# Stats: min, max index of cols\n",
    "print \"Min of each col:\", a.min(axis=0), \"index:\", a.argmin(axis=0)\n",
    "print \"Max of each col:\", a.max(axis=0), \"index:\", a.argmax(axis=0)\n",
    "print \"\"\n",
    "\n",
    "# Stats: min, max index of rows\n",
    "print \"Min of each row:\", a.min(axis=1), \"index:\", a.argmin(axis=1)\n",
    "print \"Max of each row:\", a.max(axis=1), \"index:\", a.argmax(axis=1)\n",
    "print \"\"\n",
    "\n",
    "# Stats: min, max index\n",
    "print \"Min of all elements:\", a.min(), \"index:\", a.argmin()\n",
    "print \"Max of all elements:\", a.max(), \"index:\", a.argmax()"
   ]
  },
  {
   "cell_type": "markdown",
   "metadata": {},
   "source": [
    "### Time"
   ]
  },
  {
   "cell_type": "code",
   "execution_count": 17,
   "metadata": {},
   "outputs": [
    {
     "name": "stdout",
     "output_type": "stream",
     "text": [
      "fsdfdsfdfdfsdfsdgsfgdgdsgdsfrrgrgrggr\n",
      "Time taken by print statement: 0.999927520752 miliseconds\n"
     ]
    }
   ],
   "source": [
    "# measurement\n",
    "import time\n",
    "\n",
    "t1 = time.time()\n",
    "print \"fsdfdsfdfdfsdfsdgsfgdgdsgdsfrrgrgrggr\" # operations\n",
    "t2 = time.time()\n",
    "\n",
    "print \"Time taken by print statement:\", (t2-t1)*1000, \"miliseconds\""
   ]
  },
  {
   "cell_type": "markdown",
   "metadata": {},
   "source": [
    "### Access and modify array elements"
   ]
  },
  {
   "cell_type": "code",
   "execution_count": 18,
   "metadata": {},
   "outputs": [
    {
     "data": {
      "text/plain": [
       "array([[ 0.32052492,  0.21190025,  0.76364232,  0.94262042],\n",
       "       [ 0.99006006,  0.41744635,  0.94986291,  0.07394805],\n",
       "       [ 0.50027538,  0.0353727 ,  0.5867769 ,  0.42022024],\n",
       "       [ 0.13698232,  0.10418081,  0.9520897 ,  0.25485493],\n",
       "       [ 0.04297848,  0.23547558,  0.86090148,  0.34180976]])"
      ]
     },
     "execution_count": 18,
     "metadata": {},
     "output_type": "execute_result"
    }
   ],
   "source": [
    "np.random.seed(418)\n",
    "a = np.random.random((5,4))\n",
    "a"
   ]
  },
  {
   "cell_type": "code",
   "execution_count": 19,
   "metadata": {},
   "outputs": [
    {
     "data": {
      "text/plain": [
       "0.95208970281702165"
      ]
     },
     "execution_count": 19,
     "metadata": {},
     "output_type": "execute_result"
    }
   ],
   "source": [
    "# Accessing element @ (3, 2)\n",
    "a[3, 2]"
   ]
  },
  {
   "cell_type": "code",
   "execution_count": 20,
   "metadata": {},
   "outputs": [
    {
     "data": {
      "text/plain": [
       "array([[ 0.41744635,  0.94986291],\n",
       "       [ 0.0353727 ,  0.5867769 ]])"
      ]
     },
     "execution_count": 20,
     "metadata": {},
     "output_type": "execute_result"
    }
   ],
   "source": [
    "# Slice\n",
    "a[1:3, 1:3]"
   ]
  },
  {
   "cell_type": "code",
   "execution_count": 21,
   "metadata": {},
   "outputs": [
    {
     "data": {
      "text/plain": [
       "array([[ 0.32052492,  0.76364232],\n",
       "       [ 0.99006006,  0.94986291],\n",
       "       [ 0.50027538,  0.5867769 ],\n",
       "       [ 0.13698232,  0.9520897 ],\n",
       "       [ 0.04297848,  0.86090148]])"
      ]
     },
     "execution_count": 21,
     "metadata": {},
     "output_type": "execute_result"
    }
   ],
   "source": [
    "# Slice\n",
    "a[:, 0:3:2]"
   ]
  },
  {
   "cell_type": "code",
   "execution_count": 22,
   "metadata": {},
   "outputs": [
    {
     "data": {
      "text/plain": [
       "array([[ 1.        ,  0.21190025,  0.76364232,  0.94262042],\n",
       "       [ 0.99006006,  0.41744635,  0.94986291,  0.07394805],\n",
       "       [ 0.50027538,  0.0353727 ,  0.5867769 ,  0.42022024],\n",
       "       [ 0.13698232,  0.10418081,  0.9520897 ,  0.25485493],\n",
       "       [ 0.04297848,  0.23547558,  0.86090148,  0.34180976]])"
      ]
     },
     "execution_count": 22,
     "metadata": {},
     "output_type": "execute_result"
    }
   ],
   "source": [
    "# Modify\n",
    "a[0, 0] = 1\n",
    "a"
   ]
  },
  {
   "cell_type": "code",
   "execution_count": 23,
   "metadata": {},
   "outputs": [
    {
     "data": {
      "text/plain": [
       "array([[ 1.        ,  0.21190025,  0.76364232,  0.94262042],\n",
       "       [ 0.99006006,  2.        ,  2.        ,  0.07394805],\n",
       "       [ 0.50027538,  2.        ,  2.        ,  0.42022024],\n",
       "       [ 0.13698232,  0.10418081,  0.9520897 ,  0.25485493],\n",
       "       [ 0.04297848,  0.23547558,  0.86090148,  0.34180976]])"
      ]
     },
     "execution_count": 23,
     "metadata": {},
     "output_type": "execute_result"
    }
   ],
   "source": [
    "# Modify\n",
    "a[1:3, 1:3] = 2\n",
    "a"
   ]
  },
  {
   "cell_type": "code",
   "execution_count": 24,
   "metadata": {},
   "outputs": [
    {
     "data": {
      "text/plain": [
       "array([[ 1.        ,  0.21190025,  0.76364232,  1.        ],\n",
       "       [ 0.99006006,  2.        ,  2.        ,  2.        ],\n",
       "       [ 0.50027538,  2.        ,  2.        ,  3.        ],\n",
       "       [ 0.13698232,  0.10418081,  0.9520897 ,  4.        ],\n",
       "       [ 0.04297848,  0.23547558,  0.86090148,  5.        ]])"
      ]
     },
     "execution_count": 24,
     "metadata": {},
     "output_type": "execute_result"
    }
   ],
   "source": [
    "# Assign a list\n",
    "a[:, 3] = [1, 2, 3, 4, 5]\n",
    "a"
   ]
  },
  {
   "cell_type": "code",
   "execution_count": 25,
   "metadata": {},
   "outputs": [
    {
     "data": {
      "text/plain": [
       "array([[ 0.99006006,  2.        ,  2.        ,  2.        ]])"
      ]
     },
     "execution_count": 25,
     "metadata": {},
     "output_type": "execute_result"
    }
   ],
   "source": [
    "# Indices\n",
    "indices = np.array([1])\n",
    "a[indices]"
   ]
  },
  {
   "cell_type": "code",
   "execution_count": 26,
   "metadata": {},
   "outputs": [
    {
     "data": {
      "text/plain": [
       "array([[ 0.99006006,  2.        ,  2.        ,  2.        ],\n",
       "       [ 0.99006006,  2.        ,  2.        ,  2.        ],\n",
       "       [ 0.50027538,  2.        ,  2.        ,  3.        ]])"
      ]
     },
     "execution_count": 26,
     "metadata": {},
     "output_type": "execute_result"
    }
   ],
   "source": [
    "# Indices\n",
    "indices = np.array([1, 1, 2])\n",
    "a[indices]"
   ]
  },
  {
   "cell_type": "markdown",
   "metadata": {},
   "source": [
    "### Binary masking"
   ]
  },
  {
   "cell_type": "code",
   "execution_count": 27,
   "metadata": {},
   "outputs": [
    {
     "data": {
      "text/plain": [
       "array([[20, 25, 10, 23, 26, 32, 10,  5,  0],\n",
       "       [ 0,  2, 50, 20,  0,  1, 28,  5,  0]])"
      ]
     },
     "execution_count": 27,
     "metadata": {},
     "output_type": "execute_result"
    }
   ],
   "source": [
    "a = np.array([\n",
    "    (20,25,10,23,26,32,10,5,0),\n",
    "    (0,2,50,20,0,1,28,5,0)\n",
    "])\n",
    "a"
   ]
  },
  {
   "cell_type": "code",
   "execution_count": 28,
   "metadata": {},
   "outputs": [
    {
     "data": {
      "text/plain": [
       "14.277777777777779"
      ]
     },
     "execution_count": 28,
     "metadata": {},
     "output_type": "execute_result"
    }
   ],
   "source": [
    "mean = a.mean()\n",
    "mean"
   ]
  },
  {
   "cell_type": "code",
   "execution_count": 29,
   "metadata": {},
   "outputs": [
    {
     "data": {
      "text/plain": [
       "array([10, 10,  5,  0,  0,  2,  0,  1,  5,  0])"
      ]
     },
     "execution_count": 29,
     "metadata": {},
     "output_type": "execute_result"
    }
   ],
   "source": [
    "# masking\n",
    "a[a<mean]"
   ]
  },
  {
   "cell_type": "code",
   "execution_count": 30,
   "metadata": {},
   "outputs": [
    {
     "data": {
      "text/plain": [
       "array([[20, 25, 14, 23, 26, 32, 14, 14, 14],\n",
       "       [14, 14, 50, 20, 14, 14, 28, 14, 14]])"
      ]
     },
     "execution_count": 30,
     "metadata": {},
     "output_type": "execute_result"
    }
   ],
   "source": [
    "# mask and replace\n",
    "a[a<mean] = mean\n",
    "a"
   ]
  },
  {
   "cell_type": "markdown",
   "metadata": {},
   "source": [
    "### Arithmetic Operations"
   ]
  },
  {
   "cell_type": "code",
   "execution_count": 31,
   "metadata": {},
   "outputs": [
    {
     "data": {
      "text/plain": [
       "array([[ 1,  2,  3,  4,  5],\n",
       "       [10, 20, 30, 40, 50]])"
      ]
     },
     "execution_count": 31,
     "metadata": {},
     "output_type": "execute_result"
    }
   ],
   "source": [
    "a = np.array([\n",
    "    (1,2,3,4,5),\n",
    "    (10,20,30,40,50)\n",
    "])\n",
    "a"
   ]
  },
  {
   "cell_type": "code",
   "execution_count": 32,
   "metadata": {},
   "outputs": [
    {
     "data": {
      "text/plain": [
       "array([[100, 200, 300, 400, 500],\n",
       "       [  1,   2,   3,   4,   5]])"
      ]
     },
     "execution_count": 32,
     "metadata": {},
     "output_type": "execute_result"
    }
   ],
   "source": [
    "b = np.array([\n",
    "    (100,200,300,400,500),\n",
    "    (1,2,3,4,5)\n",
    "])\n",
    "b"
   ]
  },
  {
   "cell_type": "code",
   "execution_count": 33,
   "metadata": {},
   "outputs": [
    {
     "data": {
      "text/plain": [
       "array([[  2,   4,   6,   8,  10],\n",
       "       [ 20,  40,  60,  80, 100]])"
      ]
     },
     "execution_count": 33,
     "metadata": {},
     "output_type": "execute_result"
    }
   ],
   "source": [
    "# Muliply by 2\n",
    "a * 2"
   ]
  },
  {
   "cell_type": "code",
   "execution_count": 34,
   "metadata": {},
   "outputs": [
    {
     "data": {
      "text/plain": [
       "array([[ 0,  1,  1,  2,  2],\n",
       "       [ 5, 10, 15, 20, 25]])"
      ]
     },
     "execution_count": 34,
     "metadata": {},
     "output_type": "execute_result"
    }
   ],
   "source": [
    "# divide by 2\n",
    "a / 2"
   ]
  },
  {
   "cell_type": "code",
   "execution_count": 35,
   "metadata": {},
   "outputs": [
    {
     "data": {
      "text/plain": [
       "array([[  0.5,   1. ,   1.5,   2. ,   2.5],\n",
       "       [  5. ,  10. ,  15. ,  20. ,  25. ]])"
      ]
     },
     "execution_count": 35,
     "metadata": {},
     "output_type": "execute_result"
    }
   ],
   "source": [
    "# divide by 2.0\n",
    "a / 2.0"
   ]
  },
  {
   "cell_type": "code",
   "execution_count": 36,
   "metadata": {},
   "outputs": [
    {
     "data": {
      "text/plain": [
       "array([[101, 202, 303, 404, 505],\n",
       "       [ 11,  22,  33,  44,  55]])"
      ]
     },
     "execution_count": 36,
     "metadata": {},
     "output_type": "execute_result"
    }
   ],
   "source": [
    "# a + b\n",
    "a + b"
   ]
  },
  {
   "cell_type": "code",
   "execution_count": 37,
   "metadata": {},
   "outputs": [
    {
     "data": {
      "text/plain": [
       "array([[ 100,  400,  900, 1600, 2500],\n",
       "       [  10,   40,   90,  160,  250]])"
      ]
     },
     "execution_count": 37,
     "metadata": {},
     "output_type": "execute_result"
    }
   ],
   "source": [
    "# a * b\n",
    "a * b"
   ]
  },
  {
   "cell_type": "code",
   "execution_count": 38,
   "metadata": {},
   "outputs": [
    {
     "data": {
      "text/plain": [
       "array([[ 0,  0,  0,  0,  0],\n",
       "       [10, 10, 10, 10, 10]])"
      ]
     },
     "execution_count": 38,
     "metadata": {},
     "output_type": "execute_result"
    }
   ],
   "source": [
    "# a / b\n",
    "a / b"
   ]
  },
  {
   "cell_type": "markdown",
   "metadata": {},
   "source": [
    "### Others\n",
    "[Reference](https://docs.scipy.org/doc/numpy/reference/index.html)"
   ]
  }
 ],
 "metadata": {
  "kernelspec": {
   "display_name": "Python 2",
   "language": "python",
   "name": "python2"
  },
  "language_info": {
   "codemirror_mode": {
    "name": "ipython",
    "version": 2
   },
   "file_extension": ".py",
   "mimetype": "text/x-python",
   "name": "python",
   "nbconvert_exporter": "python",
   "pygments_lexer": "ipython2",
   "version": "2.7.14"
  }
 },
 "nbformat": 4,
 "nbformat_minor": 2
}
